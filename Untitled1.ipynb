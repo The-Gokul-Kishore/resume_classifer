{
 "cells": [
  {
   "cell_type": "code",
   "execution_count": null,
   "id": "3f68384a",
   "metadata": {},
   "outputs": [],
   "source": []
  }
 ],
 "metadata": {
  "kernelspec": {
   "display_name": "GokulK",
   "language": "python",
   "name": "gokulk"
  }
 },
 "nbformat": 4,
 "nbformat_minor": 5
}
